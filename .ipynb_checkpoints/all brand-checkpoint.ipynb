{
 "cells": [
  {
   "cell_type": "code",
   "execution_count": 42,
   "id": "3bc8720f",
   "metadata": {},
   "outputs": [],
   "source": [
    "import numpy as np\n",
    "import pandas as pd\n",
    "import time\n",
    "from bs4 import BeautifulSoup\n",
    "from selenium import webdriver\n",
    "from selenium.webdriver.support.ui import WebDriverWait\n",
    "from selenium.webdriver.common.by import By\n",
    "from selenium.webdriver.support import expected_conditions as EC\n"
   ]
  },
  {
   "cell_type": "code",
   "execution_count": 43,
   "id": "2d49ac6a",
   "metadata": {},
   "outputs": [],
   "source": [
    "driver = webdriver.Chrome()"
   ]
  },
  {
   "cell_type": "code",
   "execution_count": null,
   "id": "341dce3c",
   "metadata": {},
   "outputs": [],
   "source": []
  },
  {
   "cell_type": "code",
   "execution_count": null,
   "id": "5d5f6be4",
   "metadata": {},
   "outputs": [],
   "source": []
  },
  {
   "cell_type": "code",
   "execution_count": null,
   "id": "c7bf5503",
   "metadata": {},
   "outputs": [],
   "source": []
  },
  {
   "cell_type": "code",
   "execution_count": 44,
   "id": "e7a3e389",
   "metadata": {},
   "outputs": [],
   "source": [
    "def extract_text(url,part_no):\n",
    "    \n",
    "    driver.get(url)\n",
    "    time.sleep(15)\n",
    "    \n",
    "    \n",
    "    content = driver.page_source\n",
    "    soup = BeautifulSoup(content)\n",
    "    \n",
    "    #part_no = soup.find('span',attrs={'class':'part-info-spec__value'})\n",
    "    #try:\n",
    "    #    part_no=part_no.text[1:-1]\n",
    "    #except:\n",
    "    #    driver.get(url)\n",
    "    #    time.sleep(10)\n",
    "    #    content = driver.page_source\n",
    "    #    soup = BeautifulSoup(content)\n",
    "   \n",
    "    #    part_no = soup.find('span',attrs={'class':'part-info-spec__value'})\n",
    "    #    part_no=part_no.text[1:-1]\n",
    "    \n",
    "    part_no = part_no\n",
    "    sp=part_no.split(\"-\")\n",
    "    if len(sp)==1:\n",
    "        part_no=str(part_no[:5])+\"-\"+part_no[5:]\n",
    "    \n",
    "    brand=soup.find('a',href=True, attrs={'class':'part-info-top__brand'})\n",
    "    try:\n",
    "        if brand.text:\n",
    "            brand=brand.text[1:-1]\n",
    "        else:\n",
    "            brand=brand.get(\"href\").split(\"-\")[-1][:-1]\n",
    "    except:\n",
    "        print(\"error in brand\")\n",
    "    \n",
    "    #brand= \"Maruti Suzuki\"\n",
    "    \n",
    "    desc=soup.find('h2', attrs={'class':'part-info-heading'})\n",
    "    desc=desc.text[1:-1]\n",
    "\n",
    "    \n",
    "    lol=[]\n",
    "    for a in soup.findAll('a',href=True, attrs={'class':'ng-star-inserted'}):\n",
    "        lol.append(a)\n",
    "    try:\n",
    "        category = lol[3].text[1:-1]\n",
    "    except:\n",
    "        category = None\n",
    "    try:\n",
    "        sub_category=lol[4].text[1:-1]\n",
    "    except:\n",
    "        sub_category=None\n",
    "    \n",
    "    price=soup.find('span', attrs={'class':'part-info-price__mrp'})\n",
    "    try:\n",
    "        price=price.text[6:]\n",
    "        price=price.split(\",\")\n",
    "        pric=\"\"\n",
    "        for i in price:\n",
    "            pric=pric+i\n",
    "        price=int(pric)\n",
    "    except:\n",
    "        price = None\n",
    "        \n",
    "    \n",
    "    \n",
    "    com_len=[]\n",
    "    for a in soup.findAll('li', attrs={'class':'compatibility-nav__list__item'}):\n",
    "        com_len.append(a.text[1:-1])\n",
    "        \n",
    "    if len(com_len)==0:\n",
    "        print(\"no data\")\n",
    "        return\n",
    "    df=[]\n",
    "    for i in range(len(com_len)):\n",
    "        make_name = com_len[i].split(\" \")[0]\n",
    "        make_len = int(com_len[i].split(\" \")[-1][1:-1])\n",
    "    \n",
    "        button=WebDriverWait(driver, 1).until(EC.element_to_be_clickable((By.XPATH, f\"//li[contains(text(),'{com_len[i]}')]\")))\n",
    "        button.click()\n",
    "        time.sleep(2)\n",
    "        \n",
    "        \n",
    "        if make_len>10:\n",
    "            WebDriverWait(driver, 1).until(EC.element_to_be_clickable((By.CSS_SELECTOR, \"span.btn.btn-sm\"))).click()\n",
    "        content = driver.page_source\n",
    "        soup = BeautifulSoup(content)\n",
    "        time.sleep(2)\n",
    "        \n",
    "\n",
    "        li_model=[]\n",
    "        for a in soup.findAll('div', attrs={\"data-head-title\":\"Model\"}):\n",
    "            li_model.append(a.text[1:-1])\n",
    "\n",
    "        li_year=[]\n",
    "        for a in soup.findAll('div', attrs={\"data-head-title\":\"Year\"}):\n",
    "            li_year.append(a.text[1:-1])\n",
    "\n",
    "        li_engine=[]\n",
    "        for a in soup.findAll('div', attrs={\"data-head-title\":\"Engine\"}):\n",
    "            li_engine.append(a.text[1:-1])\n",
    "\n",
    "        li_power=[]\n",
    "        for a in soup.findAll('div', attrs={\"data-head-title\":\"Power (hp)\"}):\n",
    "            li_power.append(a.text[1:-1])\n",
    "\n",
    "        li_fuel=[]\n",
    "        for a in soup.findAll('div', attrs={\"data-head-title\":\"Fuel type\"}):\n",
    "            li_fuel.append(a.text[1:-1])\n",
    "\n",
    "        li_engine_type=[]\n",
    "        for a in soup.findAll('div', attrs={\"data-head-title\":\"Engine type\"}):\n",
    "            li_engine_type.append(a.text[1:-1])\n",
    "\n",
    "        \n",
    "        for i in range(len(li_model)):\n",
    "            df.append([part_no,brand,\"\",desc,price,category,sub_category,\"\",make_name,li_model[i],li_year[i],li_engine[i],li_power[i],li_fuel[i],li_engine_type[i]])\n",
    "\n",
    "        \n",
    "    return df"
   ]
  },
  {
   "cell_type": "code",
   "execution_count": 45,
   "id": "9c181616",
   "metadata": {},
   "outputs": [],
   "source": [
    "lol=[\"\"\"PI-2376\n",
    "PI-4354\"\"\"]"
   ]
  },
  {
   "cell_type": "code",
   "execution_count": 46,
   "id": "fb512b97",
   "metadata": {},
   "outputs": [
    {
     "data": {
      "text/plain": [
       "['PI-2376\\nPI-4354']"
      ]
     },
     "execution_count": 46,
     "metadata": {},
     "output_type": "execute_result"
    }
   ],
   "source": [
    "lol"
   ]
  },
  {
   "cell_type": "code",
   "execution_count": 47,
   "id": "66bd46ed",
   "metadata": {},
   "outputs": [],
   "source": [
    "skus=lol[0].split()"
   ]
  },
  {
   "cell_type": "code",
   "execution_count": 48,
   "id": "2c77d97e",
   "metadata": {},
   "outputs": [
    {
     "data": {
      "text/plain": [
       "['PI-2376', 'PI-4354']"
      ]
     },
     "execution_count": 48,
     "metadata": {},
     "output_type": "execute_result"
    }
   ],
   "source": [
    "skus"
   ]
  },
  {
   "cell_type": "code",
   "execution_count": 49,
   "id": "6aca4114",
   "metadata": {},
   "outputs": [
    {
     "data": {
      "text/plain": [
       "2"
      ]
     },
     "execution_count": 49,
     "metadata": {},
     "output_type": "execute_result"
    }
   ],
   "source": [
    "len(skus)"
   ]
  },
  {
   "cell_type": "code",
   "execution_count": null,
   "id": "e5cdd90f",
   "metadata": {},
   "outputs": [],
   "source": []
  },
  {
   "cell_type": "code",
   "execution_count": null,
   "id": "6eea0efc",
   "metadata": {},
   "outputs": [],
   "source": []
  },
  {
   "cell_type": "code",
   "execution_count": 50,
   "id": "d1716b55",
   "metadata": {},
   "outputs": [],
   "source": [
    "def extract_sku(url):\n",
    "    li=[]\n",
    "    for i in url:\n",
    "        li.append([\"https://boodmo.com/search/\"+i,i])\n",
    "    return li"
   ]
  },
  {
   "cell_type": "code",
   "execution_count": 51,
   "id": "b5db93e8",
   "metadata": {},
   "outputs": [],
   "source": [
    "uri=extract_sku(skus)"
   ]
  },
  {
   "cell_type": "code",
   "execution_count": 52,
   "id": "ac26d796",
   "metadata": {},
   "outputs": [
    {
     "data": {
      "text/plain": [
       "[['https://boodmo.com/search/PI-2376', 'PI-2376'],\n",
       " ['https://boodmo.com/search/PI-4354', 'PI-4354']]"
      ]
     },
     "execution_count": 52,
     "metadata": {},
     "output_type": "execute_result"
    }
   ],
   "source": [
    "uri"
   ]
  },
  {
   "cell_type": "code",
   "execution_count": 53,
   "id": "2e87c433",
   "metadata": {},
   "outputs": [
    {
     "data": {
      "text/plain": [
       "2"
      ]
     },
     "execution_count": 53,
     "metadata": {},
     "output_type": "execute_result"
    }
   ],
   "source": [
    "len(uri)"
   ]
  },
  {
   "cell_type": "code",
   "execution_count": null,
   "id": "45d50b31",
   "metadata": {},
   "outputs": [],
   "source": []
  },
  {
   "cell_type": "code",
   "execution_count": 54,
   "id": "07cf91f4",
   "metadata": {},
   "outputs": [],
   "source": [
    "def extract_url(url):\n",
    "    \n",
    "    driver.get(url)\n",
    "    time.sleep(10)\n",
    "    \n",
    "    content = driver.page_source\n",
    "    soup = BeautifulSoup(content)\n",
    "    \n",
    "    li=[]\n",
    "    a=soup.findAll('a',href=True,attrs={'class':'product-item-list__images'})\n",
    "    try:\n",
    "        a=a[0].get(\"href\")\n",
    "        li.append(\"https://boodmo.com\"+a)\n",
    "    except:\n",
    "        print(\"no url\")\n",
    "    return li"
   ]
  },
  {
   "cell_type": "code",
   "execution_count": null,
   "id": "eff77cb5",
   "metadata": {},
   "outputs": [],
   "source": []
  },
  {
   "cell_type": "code",
   "execution_count": 55,
   "id": "3345cbc8",
   "metadata": {},
   "outputs": [],
   "source": [
    "li=[]"
   ]
  },
  {
   "cell_type": "code",
   "execution_count": 56,
   "id": "0477f5ff",
   "metadata": {},
   "outputs": [
    {
     "name": "stdout",
     "output_type": "stream",
     "text": [
      "0\n",
      "1\n"
     ]
    }
   ],
   "source": [
    "for i in range(len(uri)):\n",
    "    a=extract_url(uri[i][0])\n",
    "    for j in a:\n",
    "        li.append([j,uri[i][1]])\n",
    "    print(i)"
   ]
  },
  {
   "cell_type": "code",
   "execution_count": 57,
   "id": "3dbfd4f3",
   "metadata": {},
   "outputs": [
    {
     "data": {
      "text/plain": [
       "2"
      ]
     },
     "execution_count": 57,
     "metadata": {},
     "output_type": "execute_result"
    }
   ],
   "source": [
    "len(li)"
   ]
  },
  {
   "cell_type": "code",
   "execution_count": 58,
   "id": "9f9e0750",
   "metadata": {},
   "outputs": [
    {
     "data": {
      "text/plain": [
       "[['https://boodmo.com/catalog/part-purolator_2376eli99-53881439/', 'PI-2376'],\n",
       " ['https://boodmo.com/catalog/part-oil_filter-6668249/', 'PI-4354']]"
      ]
     },
     "execution_count": 58,
     "metadata": {},
     "output_type": "execute_result"
    }
   ],
   "source": [
    "li"
   ]
  },
  {
   "cell_type": "code",
   "execution_count": 59,
   "id": "9c5eec96",
   "metadata": {},
   "outputs": [
    {
     "data": {
      "text/html": [
       "<div>\n",
       "<style scoped>\n",
       "    .dataframe tbody tr th:only-of-type {\n",
       "        vertical-align: middle;\n",
       "    }\n",
       "\n",
       "    .dataframe tbody tr th {\n",
       "        vertical-align: top;\n",
       "    }\n",
       "\n",
       "    .dataframe thead th {\n",
       "        text-align: right;\n",
       "    }\n",
       "</style>\n",
       "<table border=\"1\" class=\"dataframe\">\n",
       "  <thead>\n",
       "    <tr style=\"text-align: right;\">\n",
       "      <th></th>\n",
       "    </tr>\n",
       "  </thead>\n",
       "  <tbody>\n",
       "  </tbody>\n",
       "</table>\n",
       "</div>"
      ],
      "text/plain": [
       "Empty DataFrame\n",
       "Columns: []\n",
       "Index: []"
      ]
     },
     "execution_count": 59,
     "metadata": {},
     "output_type": "execute_result"
    }
   ],
   "source": [
    "df1 = pd.DataFrame()\n",
    "df1"
   ]
  },
  {
   "cell_type": "code",
   "execution_count": 60,
   "id": "5fc7d966",
   "metadata": {},
   "outputs": [
    {
     "name": "stdout",
     "output_type": "stream",
     "text": [
      "76\n",
      "26\n",
      "2\n",
      "0\n",
      "97\n",
      "27\n",
      "14\n",
      "1\n"
     ]
    }
   ],
   "source": [
    "for i in range(len(li)):\n",
    "    l=extract_text(li[i][0],li[i][1])\n",
    "    df2=pd.DataFrame(l)\n",
    "    df1=pd.concat([df1, df2])\n",
    "    print(i)"
   ]
  },
  {
   "cell_type": "code",
   "execution_count": 61,
   "id": "b920e003",
   "metadata": {},
   "outputs": [
    {
     "data": {
      "text/html": [
       "<div>\n",
       "<style scoped>\n",
       "    .dataframe tbody tr th:only-of-type {\n",
       "        vertical-align: middle;\n",
       "    }\n",
       "\n",
       "    .dataframe tbody tr th {\n",
       "        vertical-align: top;\n",
       "    }\n",
       "\n",
       "    .dataframe thead th {\n",
       "        text-align: right;\n",
       "    }\n",
       "</style>\n",
       "<table border=\"1\" class=\"dataframe\">\n",
       "  <thead>\n",
       "    <tr style=\"text-align: right;\">\n",
       "      <th></th>\n",
       "      <th>0</th>\n",
       "      <th>1</th>\n",
       "      <th>2</th>\n",
       "      <th>3</th>\n",
       "      <th>4</th>\n",
       "      <th>5</th>\n",
       "      <th>6</th>\n",
       "      <th>7</th>\n",
       "      <th>8</th>\n",
       "      <th>9</th>\n",
       "      <th>10</th>\n",
       "      <th>11</th>\n",
       "      <th>12</th>\n",
       "      <th>13</th>\n",
       "      <th>14</th>\n",
       "    </tr>\n",
       "  </thead>\n",
       "  <tbody>\n",
       "    <tr>\n",
       "      <th>0</th>\n",
       "      <td>PI-2376</td>\n",
       "      <td>purolator</td>\n",
       "      <td></td>\n",
       "      <td>Cabin Air Filter (Activated Carbon Type)</td>\n",
       "      <td>511</td>\n",
       "      <td>Air Conditioning</td>\n",
       "      <td>Cabin Filter</td>\n",
       "      <td></td>\n",
       "      <td>TOYOTA</td>\n",
       "      <td>CAMRY XV40 2.4L LE AT</td>\n",
       "      <td>01.2006 - 08.2011</td>\n",
       "      <td>2.4 L</td>\n",
       "      <td>167 h.p.</td>\n",
       "      <td>Petrol</td>\n",
       "      <td>2AZFE</td>\n",
       "    </tr>\n",
       "    <tr>\n",
       "      <th>1</th>\n",
       "      <td>PI-2376</td>\n",
       "      <td>purolator</td>\n",
       "      <td></td>\n",
       "      <td>Cabin Air Filter (Activated Carbon Type)</td>\n",
       "      <td>511</td>\n",
       "      <td>Air Conditioning</td>\n",
       "      <td>Cabin Filter</td>\n",
       "      <td></td>\n",
       "      <td>TOYOTA</td>\n",
       "      <td>CAMRY XV40 3.5L XLE AT</td>\n",
       "      <td>01.2006 - 08.2011</td>\n",
       "      <td>3.5 L</td>\n",
       "      <td>272 h.p.</td>\n",
       "      <td>Petrol</td>\n",
       "      <td>2GRFE</td>\n",
       "    </tr>\n",
       "    <tr>\n",
       "      <th>2</th>\n",
       "      <td>PI-2376</td>\n",
       "      <td>purolator</td>\n",
       "      <td></td>\n",
       "      <td>Cabin Air Filter (Activated Carbon Type)</td>\n",
       "      <td>511</td>\n",
       "      <td>Air Conditioning</td>\n",
       "      <td>Cabin Filter</td>\n",
       "      <td></td>\n",
       "      <td>TOYOTA</td>\n",
       "      <td>CAMRY XV40 2.4L LE</td>\n",
       "      <td>01.2006 - 08.2011</td>\n",
       "      <td>2.4 L</td>\n",
       "      <td>167 h.p.</td>\n",
       "      <td>Petrol</td>\n",
       "      <td>2AZFE</td>\n",
       "    </tr>\n",
       "    <tr>\n",
       "      <th>3</th>\n",
       "      <td>PI-2376</td>\n",
       "      <td>purolator</td>\n",
       "      <td></td>\n",
       "      <td>Cabin Air Filter (Activated Carbon Type)</td>\n",
       "      <td>511</td>\n",
       "      <td>Air Conditioning</td>\n",
       "      <td>Cabin Filter</td>\n",
       "      <td></td>\n",
       "      <td>TOYOTA</td>\n",
       "      <td>CAMRY XV50 2.5L G AT</td>\n",
       "      <td>07.2012 - 11.2015</td>\n",
       "      <td>2.5 L</td>\n",
       "      <td>184 h.p.</td>\n",
       "      <td>Petrol</td>\n",
       "      <td>2ARFE</td>\n",
       "    </tr>\n",
       "    <tr>\n",
       "      <th>4</th>\n",
       "      <td>PI-2376</td>\n",
       "      <td>purolator</td>\n",
       "      <td></td>\n",
       "      <td>Cabin Air Filter (Activated Carbon Type)</td>\n",
       "      <td>511</td>\n",
       "      <td>Air Conditioning</td>\n",
       "      <td>Cabin Filter</td>\n",
       "      <td></td>\n",
       "      <td>TOYOTA</td>\n",
       "      <td>CAMRY XV50 2.5L V AT</td>\n",
       "      <td>08.2013 - 11.2015</td>\n",
       "      <td>2.5 L</td>\n",
       "      <td>160 h.p.</td>\n",
       "      <td>Hybrid</td>\n",
       "      <td>2ARFXE</td>\n",
       "    </tr>\n",
       "    <tr>\n",
       "      <th>...</th>\n",
       "      <td>...</td>\n",
       "      <td>...</td>\n",
       "      <td>...</td>\n",
       "      <td>...</td>\n",
       "      <td>...</td>\n",
       "      <td>...</td>\n",
       "      <td>...</td>\n",
       "      <td>...</td>\n",
       "      <td>...</td>\n",
       "      <td>...</td>\n",
       "      <td>...</td>\n",
       "      <td>...</td>\n",
       "      <td>...</td>\n",
       "      <td>...</td>\n",
       "      <td>...</td>\n",
       "    </tr>\n",
       "    <tr>\n",
       "      <th>133</th>\n",
       "      <td>PI-4354</td>\n",
       "      <td>purolator</td>\n",
       "      <td></td>\n",
       "      <td>Oil Filter</td>\n",
       "      <td>192</td>\n",
       "      <td>Engine</td>\n",
       "      <td>Lubrication</td>\n",
       "      <td></td>\n",
       "      <td>FIAT</td>\n",
       "      <td>LINEA 1.3L</td>\n",
       "      <td>03.2013 - 07.2014</td>\n",
       "      <td>1.3 L</td>\n",
       "      <td>90 h.p.</td>\n",
       "      <td>Diesel</td>\n",
       "      <td>MULTIJET</td>\n",
       "    </tr>\n",
       "    <tr>\n",
       "      <th>134</th>\n",
       "      <td>PI-4354</td>\n",
       "      <td>purolator</td>\n",
       "      <td></td>\n",
       "      <td>Oil Filter</td>\n",
       "      <td>192</td>\n",
       "      <td>Engine</td>\n",
       "      <td>Lubrication</td>\n",
       "      <td></td>\n",
       "      <td>FIAT</td>\n",
       "      <td>LINEA F/L 1.3L</td>\n",
       "      <td>03.2014 - 02.2019</td>\n",
       "      <td>1.3 L</td>\n",
       "      <td>90 h.p.</td>\n",
       "      <td>Diesel</td>\n",
       "      <td>MULTIJET</td>\n",
       "    </tr>\n",
       "    <tr>\n",
       "      <th>135</th>\n",
       "      <td>PI-4354</td>\n",
       "      <td>purolator</td>\n",
       "      <td></td>\n",
       "      <td>Oil Filter</td>\n",
       "      <td>192</td>\n",
       "      <td>Engine</td>\n",
       "      <td>Lubrication</td>\n",
       "      <td></td>\n",
       "      <td>FIAT</td>\n",
       "      <td>PUNTO EVO 1.3L SPORT</td>\n",
       "      <td>02.2014 - 02.2019</td>\n",
       "      <td>1.3 L</td>\n",
       "      <td>90 h.p.</td>\n",
       "      <td>Diesel</td>\n",
       "      <td>MULTIJET</td>\n",
       "    </tr>\n",
       "    <tr>\n",
       "      <th>136</th>\n",
       "      <td>PI-4354</td>\n",
       "      <td>purolator</td>\n",
       "      <td></td>\n",
       "      <td>Oil Filter</td>\n",
       "      <td>192</td>\n",
       "      <td>Engine</td>\n",
       "      <td>Lubrication</td>\n",
       "      <td></td>\n",
       "      <td>FIAT</td>\n",
       "      <td>PUNTO EVO 1.3L</td>\n",
       "      <td>02.2014 - 02.2019</td>\n",
       "      <td>1.3 L</td>\n",
       "      <td>75 h.p.</td>\n",
       "      <td>Diesel</td>\n",
       "      <td>MULTIJET</td>\n",
       "    </tr>\n",
       "    <tr>\n",
       "      <th>137</th>\n",
       "      <td>PI-4354</td>\n",
       "      <td>purolator</td>\n",
       "      <td></td>\n",
       "      <td>Oil Filter</td>\n",
       "      <td>192</td>\n",
       "      <td>Engine</td>\n",
       "      <td>Lubrication</td>\n",
       "      <td></td>\n",
       "      <td>FIAT</td>\n",
       "      <td>PUNTO PURE 1.3L</td>\n",
       "      <td>02.2016 - 02.2019</td>\n",
       "      <td>1.3 L</td>\n",
       "      <td>75 h.p.</td>\n",
       "      <td>Diesel</td>\n",
       "      <td>MULTIJET</td>\n",
       "    </tr>\n",
       "  </tbody>\n",
       "</table>\n",
       "<p>242 rows × 15 columns</p>\n",
       "</div>"
      ],
      "text/plain": [
       "          0          1  2                                         3    4   \\\n",
       "0    PI-2376  purolator     Cabin Air Filter (Activated Carbon Type)  511   \n",
       "1    PI-2376  purolator     Cabin Air Filter (Activated Carbon Type)  511   \n",
       "2    PI-2376  purolator     Cabin Air Filter (Activated Carbon Type)  511   \n",
       "3    PI-2376  purolator     Cabin Air Filter (Activated Carbon Type)  511   \n",
       "4    PI-2376  purolator     Cabin Air Filter (Activated Carbon Type)  511   \n",
       "..       ...        ... ..                                       ...  ...   \n",
       "133  PI-4354  purolator                                   Oil Filter  192   \n",
       "134  PI-4354  purolator                                   Oil Filter  192   \n",
       "135  PI-4354  purolator                                   Oil Filter  192   \n",
       "136  PI-4354  purolator                                   Oil Filter  192   \n",
       "137  PI-4354  purolator                                   Oil Filter  192   \n",
       "\n",
       "                   5             6  7       8                       9   \\\n",
       "0    Air Conditioning  Cabin Filter     TOYOTA   CAMRY XV40 2.4L LE AT   \n",
       "1    Air Conditioning  Cabin Filter     TOYOTA  CAMRY XV40 3.5L XLE AT   \n",
       "2    Air Conditioning  Cabin Filter     TOYOTA      CAMRY XV40 2.4L LE   \n",
       "3    Air Conditioning  Cabin Filter     TOYOTA    CAMRY XV50 2.5L G AT   \n",
       "4    Air Conditioning  Cabin Filter     TOYOTA    CAMRY XV50 2.5L V AT   \n",
       "..                ...           ... ..     ...                     ...   \n",
       "133            Engine   Lubrication       FIAT              LINEA 1.3L   \n",
       "134            Engine   Lubrication       FIAT          LINEA F/L 1.3L   \n",
       "135            Engine   Lubrication       FIAT    PUNTO EVO 1.3L SPORT   \n",
       "136            Engine   Lubrication       FIAT          PUNTO EVO 1.3L   \n",
       "137            Engine   Lubrication       FIAT         PUNTO PURE 1.3L   \n",
       "\n",
       "                    10     11        12      13        14  \n",
       "0    01.2006 - 08.2011  2.4 L  167 h.p.  Petrol     2AZFE  \n",
       "1    01.2006 - 08.2011  3.5 L  272 h.p.  Petrol     2GRFE  \n",
       "2    01.2006 - 08.2011  2.4 L  167 h.p.  Petrol     2AZFE  \n",
       "3    07.2012 - 11.2015  2.5 L  184 h.p.  Petrol     2ARFE  \n",
       "4    08.2013 - 11.2015  2.5 L  160 h.p.  Hybrid    2ARFXE  \n",
       "..                 ...    ...       ...     ...       ...  \n",
       "133  03.2013 - 07.2014  1.3 L   90 h.p.  Diesel  MULTIJET  \n",
       "134  03.2014 - 02.2019  1.3 L   90 h.p.  Diesel  MULTIJET  \n",
       "135  02.2014 - 02.2019  1.3 L   90 h.p.  Diesel  MULTIJET  \n",
       "136  02.2014 - 02.2019  1.3 L   75 h.p.  Diesel  MULTIJET  \n",
       "137  02.2016 - 02.2019  1.3 L   75 h.p.  Diesel  MULTIJET  \n",
       "\n",
       "[242 rows x 15 columns]"
      ]
     },
     "execution_count": 61,
     "metadata": {},
     "output_type": "execute_result"
    }
   ],
   "source": [
    "df1"
   ]
  },
  {
   "cell_type": "code",
   "execution_count": 62,
   "id": "30fb5c8c",
   "metadata": {},
   "outputs": [
    {
     "data": {
      "text/plain": [
       "2"
      ]
     },
     "execution_count": 62,
     "metadata": {},
     "output_type": "execute_result"
    }
   ],
   "source": [
    "len(pd.unique(df1[0]))"
   ]
  },
  {
   "cell_type": "code",
   "execution_count": null,
   "id": "4310b2b8",
   "metadata": {},
   "outputs": [],
   "source": []
  },
  {
   "cell_type": "code",
   "execution_count": null,
   "id": "b9335e15",
   "metadata": {},
   "outputs": [],
   "source": []
  },
  {
   "cell_type": "code",
   "execution_count": null,
   "id": "ab9e32e2",
   "metadata": {},
   "outputs": [],
   "source": []
  },
  {
   "cell_type": "code",
   "execution_count": null,
   "id": "ec1ba978",
   "metadata": {},
   "outputs": [],
   "source": []
  },
  {
   "cell_type": "code",
   "execution_count": 63,
   "id": "e1fbd722",
   "metadata": {},
   "outputs": [],
   "source": [
    "df1.to_excel(\"my.xlsx\")"
   ]
  },
  {
   "cell_type": "code",
   "execution_count": null,
   "id": "87c4d162",
   "metadata": {},
   "outputs": [],
   "source": []
  },
  {
   "cell_type": "code",
   "execution_count": null,
   "id": "a294bcf5",
   "metadata": {},
   "outputs": [],
   "source": []
  },
  {
   "cell_type": "code",
   "execution_count": null,
   "id": "226ca12e",
   "metadata": {},
   "outputs": [],
   "source": []
  },
  {
   "cell_type": "code",
   "execution_count": null,
   "id": "e0114e64",
   "metadata": {},
   "outputs": [],
   "source": []
  },
  {
   "cell_type": "code",
   "execution_count": null,
   "id": "9a1caad9",
   "metadata": {},
   "outputs": [],
   "source": []
  },
  {
   "cell_type": "code",
   "execution_count": null,
   "id": "6fb5dc5f",
   "metadata": {},
   "outputs": [],
   "source": []
  }
 ],
 "metadata": {
  "kernelspec": {
   "display_name": "Python 3 (ipykernel)",
   "language": "python",
   "name": "python3"
  },
  "language_info": {
   "codemirror_mode": {
    "name": "ipython",
    "version": 3
   },
   "file_extension": ".py",
   "mimetype": "text/x-python",
   "name": "python",
   "nbconvert_exporter": "python",
   "pygments_lexer": "ipython3",
   "version": "3.11.3"
  }
 },
 "nbformat": 4,
 "nbformat_minor": 5
}
