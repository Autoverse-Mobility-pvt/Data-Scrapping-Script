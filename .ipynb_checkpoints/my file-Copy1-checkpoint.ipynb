{
 "cells": [
  {
   "cell_type": "code",
   "execution_count": null,
   "id": "63a98e35",
   "metadata": {},
   "outputs": [],
   "source": [
    "import numpy as np\n",
    "import pandas as pd\n",
    "from bs4 import BeautifulSoup\n",
    "from selenium import webdriver\n",
    "import time"
   ]
  },
  {
   "cell_type": "code",
   "execution_count": null,
   "id": "44d4d00d",
   "metadata": {},
   "outputs": [],
   "source": [
    "driver = webdriver.Chrome()"
   ]
  },
  {
   "cell_type": "code",
   "execution_count": null,
   "id": "f55fa1b1",
   "metadata": {},
   "outputs": [],
   "source": [
    "df1 = pd.DataFrame()"
   ]
  },
  {
   "cell_type": "code",
   "execution_count": null,
   "id": "5de421eb",
   "metadata": {},
   "outputs": [],
   "source": [
    "df1"
   ]
  },
  {
   "cell_type": "code",
   "execution_count": null,
   "id": "d17d3548",
   "metadata": {},
   "outputs": [],
   "source": [
    "def extract_text(url):\n",
    "    \n",
    "    driver.get(url)\n",
    "    time.sleep(10)\n",
    "    \n",
    "    content = driver.page_source\n",
    "    soup = BeautifulSoup(content)\n",
    "\n",
    "    part_no = soup.find('span',attrs={'class':'part-info-spec__value'})\n",
    "    part_no=part_no.text[1:-1]\n",
    "    \n",
    "    #brand=soup.find('a',href=True, attrs={'class':'part-info-top__brand'})\n",
    "    #try:\n",
    "        #if brand.text:\n",
    "            #brand=brand.text[1:-1]\n",
    "        #else:\n",
    "            #brand=brand.get(\"href\").split(\"-\")[-1][:-1]\n",
    "    #except:\n",
    "        #print(\"error in brand\")\n",
    "    #print(brand)\n",
    "    brand= \"Hyundai/Kia\"\n",
    "    \n",
    "    desc=soup.find('h2', attrs={'class':'part-info-heading'})\n",
    "    desc=desc.text[1:-1]\n",
    "    \n",
    "    lol=[]\n",
    "    for a in soup.findAll('a',href=True, attrs={'class':'ng-star-inserted'}):\n",
    "        lol.append(a)\n",
    "    #category = lol[3].text[1:-1]\n",
    "    category = \"Electrical Components\"\n",
    "    sub_category=lol[4].text[1:-1]\n",
    "    \n",
    "    price=soup.find('span', attrs={'class':'part-info-price__mrp'})\n",
    "    price=price.text[6:]\n",
    "    price=price.split(\",\")\n",
    "    pric=\"\"\n",
    "    for i in price:\n",
    "        pric=pric+i\n",
    "    price=int(pric)\n",
    "    \n",
    "    com_li=[]\n",
    "    for a in soup.findAll('li', attrs={'class':'compatibility-nav__list__item'}):\n",
    "        com_li.append(a.text[1:-1])\n",
    "    if len(com_li)==0:\n",
    "        return\n",
    "    \n",
    "    make_len_kia=0\n",
    "    if len(com_li)==1:\n",
    "        make_len = int(com_li[0].split(\" \")[1][1:-1])\n",
    "    if len(com_li)==2:\n",
    "        print(url)\n",
    "        make_len = int(com_li[0].split(\" \")[1][1:-1])\n",
    "        make_len_kia = int(com_li[1].split(\" \")[1][1:-1])\n",
    "    \n",
    "    make1= \"Hyundai\"\n",
    "    make2=\"KIA\"\n",
    "    \n",
    "    li_model=[]\n",
    "    for a in soup.findAll('div', attrs={\"data-head-title\":\"Model\"}):\n",
    "        li_model.append(a.text[1:-1])\n",
    "    \n",
    "    li_year=[]\n",
    "    for a in soup.findAll('div', attrs={\"data-head-title\":\"Year\"}):\n",
    "        li_year.append(a.text[1:-1])\n",
    "    \n",
    "    li_engine=[]\n",
    "    for a in soup.findAll('div', attrs={\"data-head-title\":\"Engine\"}):\n",
    "        li_engine.append(a.text[1:-1])\n",
    "    \n",
    "    li_power=[]\n",
    "    for a in soup.findAll('div', attrs={\"data-head-title\":\"Power (hp)\"}):\n",
    "        li_power.append(a.text[1:-1])\n",
    "    \n",
    "    li_fuel=[]\n",
    "    for a in soup.findAll('div', attrs={\"data-head-title\":\"Fuel type\"}):\n",
    "        li_fuel.append(a.text[1:-1])\n",
    "    \n",
    "    li_engine_type=[]\n",
    "    for a in soup.findAll('div', attrs={\"data-head-title\":\"Engine type\"}):\n",
    "        li_engine_type.append(a.text[1:-1])\n",
    "    \n",
    "    df=[]\n",
    "    if make_len<11:\n",
    "        for i in range(len(li_model)):\n",
    "            df.append([part_no,brand,\"\",desc,price,category,sub_category,\"\",make1,li_model[i],li_year[i],li_engine[i],li_power[i],li_fuel[i],li_engine_type[i]])\n",
    "    else:\n",
    "        if make_len_kia==0:\n",
    "            print(url)\n",
    "        for i in range(10):\n",
    "            df.append([part_no,brand,\"\",desc,price,category,sub_category,\"\",make1,li_model[i],li_year[i],li_engine[i],li_power[i],li_fuel[i],li_engine_type[i]])\n",
    "        for i in range(make_len-10):\n",
    "            df.append([part_no,brand,\"\",desc,price,category,sub_category,\"\",make1])\n",
    "    if make_len_kia>0:\n",
    "        for i in range(make_len_kia):\n",
    "            df.append([part_no,brand,\"\",desc,price,category,sub_category,\"\",make2])\n",
    "        \n",
    "    return df\n"
   ]
  },
  {
   "cell_type": "code",
   "execution_count": null,
   "id": "311f675f",
   "metadata": {},
   "outputs": [],
   "source": [
    "li=[]"
   ]
  },
  {
   "cell_type": "code",
   "execution_count": null,
   "id": "4f0bf2cb",
   "metadata": {},
   "outputs": [],
   "source": []
  },
  {
   "cell_type": "code",
   "execution_count": null,
   "id": "fe7fb473",
   "metadata": {},
   "outputs": [],
   "source": [
    "for i in range(len(li)):\n",
    "    l=extract_text(li[i])\n",
    "    df2=pd.DataFrame(l)\n",
    "    df1=pd.concat([df1, df2])\n",
    "    print(i+1)"
   ]
  }
 ],
 "metadata": {
  "kernelspec": {
   "display_name": "Python 3 (ipykernel)",
   "language": "python",
   "name": "python3"
  },
  "language_info": {
   "codemirror_mode": {
    "name": "ipython",
    "version": 3
   },
   "file_extension": ".py",
   "mimetype": "text/x-python",
   "name": "python",
   "nbconvert_exporter": "python",
   "pygments_lexer": "ipython3",
   "version": "3.11.3"
  }
 },
 "nbformat": 4,
 "nbformat_minor": 5
}
